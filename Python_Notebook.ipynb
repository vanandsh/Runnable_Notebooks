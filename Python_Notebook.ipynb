{
 "cells": [
  {
   "cell_type": "markdown",
   "metadata": {},
   "source": [
    "# Python Notebook"
   ]
  },
  {
   "cell_type": "markdown",
   "metadata": {},
   "source": [
    "### 1.1 Function to add all members in a list"
   ]
  },
  {
   "cell_type": "code",
   "execution_count": 2,
   "metadata": {},
   "outputs": [
    {
     "name": "stdout",
     "output_type": "stream",
     "text": [
      "15\n"
     ]
    }
   ],
   "source": [
    "def sum_list(numbers_list):\n",
    "    \"\"\"\n",
    "    Returns the sum of all the numbers in a list\n",
    "    \n",
    "    Arguments:\n",
    "    numbers_list -> list that contains all numbers that need to added\n",
    "    \n",
    "    Returns sum\n",
    "    \"\"\"\n",
    "    sum=0\n",
    "    for number in numbers_list:\n",
    "        sum += number\n",
    "    return sum\n",
    "\n",
    "x = [1,2,3,4,5]\n",
    "print(sum_list(x))"
   ]
  },
  {
   "cell_type": "markdown",
   "metadata": {},
   "source": [
    "## 1.2 Function to find the minimum in a list"
   ]
  },
  {
   "cell_type": "code",
   "execution_count": 13,
   "metadata": {},
   "outputs": [
    {
     "name": "stdout",
     "output_type": "stream",
     "text": [
      "-2\n"
     ]
    }
   ],
   "source": [
    "def min_list(numbers_list):\n",
    "    \"\"\"\n",
    "    Returns the minimum of all the numbers in a list\n",
    "    \n",
    "    Arguments:\n",
    "    numbers_list -> list that contains all numbers from which minimum is to be found\n",
    "    \n",
    "    Returns minimum\n",
    "    \"\"\"\n",
    "    if len(numbers_list) == 0:\n",
    "        return 0\n",
    "    \n",
    "    min = numbers_list[0]\n",
    "    \n",
    "    for number in numbers_list:\n",
    "        if min>number:\n",
    "            min=number\n",
    "    return min\n",
    "\n",
    "x = [1,2,3,-2,4,5]\n",
    "print(min_list(x))"
   ]
  }
 ],
 "metadata": {
  "kernelspec": {
   "display_name": "Python 3",
   "language": "python",
   "name": "python3"
  },
  "language_info": {
   "codemirror_mode": {
    "name": "ipython",
    "version": 3
   },
   "file_extension": ".py",
   "mimetype": "text/x-python",
   "name": "python",
   "nbconvert_exporter": "python",
   "pygments_lexer": "ipython3",
   "version": "3.7.3"
  }
 },
 "nbformat": 4,
 "nbformat_minor": 4
}
